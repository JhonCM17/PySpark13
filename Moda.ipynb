{
  "cells": [
    {
      "cell_type": "code",
      "execution_count": 30,
      "metadata": {
        "id": "mhiAfD4Alw-8"
      },
      "outputs": [],
      "source": [
        "from pyspark.sql import SparkSession\n",
        "from pyspark.sql.functions import col, expr, mean, corr, avg as F"
      ]
    },
    {
      "cell_type": "code",
      "execution_count": 31,
      "metadata": {
        "id": "jR-5vFIXnaLB"
      },
      "outputs": [],
      "source": [
        "spark= SparkSession.builder.appName(\"Notas\").getOrCreate()"
      ]
    },
    {
      "cell_type": "code",
      "execution_count": 32,
      "metadata": {
        "colab": {
          "base_uri": "https://localhost:8080/",
          "height": 222
        },
        "id": "oVfNFXKPnc74",
        "outputId": "5b3d79f5-7430-4ec5-83cb-f22df1140e9d"
      },
      "outputs": [
        {
          "data": {
            "text/html": [
              "\n",
              "            <div>\n",
              "                <p><b>SparkSession - in-memory</b></p>\n",
              "                \n",
              "        <div>\n",
              "            <p><b>SparkContext</b></p>\n",
              "\n",
              "            <p><a href=\"http://d2791519562b:4040\">Spark UI</a></p>\n",
              "\n",
              "            <dl>\n",
              "              <dt>Version</dt>\n",
              "                <dd><code>v3.5.3</code></dd>\n",
              "              <dt>Master</dt>\n",
              "                <dd><code>local[*]</code></dd>\n",
              "              <dt>AppName</dt>\n",
              "                <dd><code>Notas</code></dd>\n",
              "            </dl>\n",
              "        </div>\n",
              "        \n",
              "            </div>\n",
              "        "
            ],
            "text/plain": [
              "<pyspark.sql.session.SparkSession at 0x786e9cb33310>"
            ]
          },
          "execution_count": 32,
          "metadata": {},
          "output_type": "execute_result"
        }
      ],
      "source": [
        "spark"
      ]
    },
    {
      "cell_type": "code",
      "execution_count": 33,
      "metadata": {
        "id": "RntmFEA6nuI5"
      },
      "outputs": [],
      "source": [
        "df= spark.read.csv(\"/data.csv\", header=True, sep=\";\", inferSchema=True)"
      ]
    },
    {
      "cell_type": "code",
      "execution_count": 34,
      "metadata": {
        "colab": {
          "base_uri": "https://localhost:8080/"
        },
        "id": "EmqqUOCKoqfi",
        "outputId": "85d3e86b-9e34-4fdc-e800-b0ae0a4a2568"
      },
      "outputs": [
        {
          "name": "stdout",
          "output_type": "stream",
          "text": [
            "+-----------+-----+-----+-----+\n",
            "|Estudiantes|NOTA1|NOTA2|NOTA3|\n",
            "+-----------+-----+-----+-----+\n",
            "|       Juan|   17|   12|   13|\n",
            "|    Patrick|   13|   15|   13|\n",
            "|       Luis|   10|   18|   20|\n",
            "|    Lorenzo|    9|   18|   14|\n",
            "|    Martina|    8|   16|   20|\n",
            "|   Cristina|   19|   13|   13|\n",
            "|      Maggy|   15|   14|   12|\n",
            "|      Elena|   16|   13|   13|\n",
            "|      Clara|   12|   10|   18|\n",
            "|   Estefany|   11|   10|   19|\n",
            "+-----------+-----+-----+-----+\n",
            "\n"
          ]
        }
      ],
      "source": [
        "df.show()"
      ]
    },
    {
      "cell_type": "code",
      "execution_count": 79,
      "metadata": {
        "id": "Qv4hofz9rpJZ"
      },
      "outputs": [],
      "source": [
        "var_moda = df.groupBy(\"NOTA1\").count().orderBy(col(\"count\").desc()).first()\n",
        "var_moda2 = df.groupBy(\"NOTA2\").count().orderBy(col(\"count\").desc()).first()\n",
        "var_moda3 = df.groupBy(\"NOTA3\").count().orderBy(col(\"count\").desc()).first()\n",
        "var_moda4 = df_media.groupBy(\"NOTA_FINAL\").count().orderBy(col(\"count\").desc()).first()[0]"
      ]
    },
    {
      "cell_type": "code",
      "execution_count": 82,
      "metadata": {
        "colab": {
          "base_uri": "https://localhost:8080/"
        },
        "id": "VRITHVAcrqJa",
        "outputId": "e42d335f-156f-4d09-db85-3e9048624afd"
      },
      "outputs": [
        {
          "name": "stdout",
          "output_type": "stream",
          "text": [
            "La moda de las notas 1 es :  12\n",
            "La moda de las notas 2 es :  13\n",
            "La moda de las notas 3 es :  13\n",
            "La moda de las notas finales es :  13.666666666666666\n"
          ]
        }
      ],
      "source": [
        "print(\"La moda de las notas 1 es : \", var_moda[\"NOTA1\"])\n",
        "print(\"La moda de las notas 2 es : \", var_moda2[\"NOTA2\"])\n",
        "print(\"La moda de las notas 3 es : \", var_moda3[\"NOTA3\"])\n",
        "print(\"La moda de las notas finales es : \", var_moda4)"
      ]
    }
  ],
  "metadata": {
    "colab": {
      "provenance": []
    },
    "kernelspec": {
      "display_name": "Python 3",
      "name": "python3"
    },
    "language_info": {
      "name": "python"
    }
  },
  "nbformat": 4,
  "nbformat_minor": 0
}
