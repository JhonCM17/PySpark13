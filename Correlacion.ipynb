{
  "cells": [
    {
      "cell_type": "code",
      "execution_count": 30,
      "metadata": {
        "id": "mhiAfD4Alw-8"
      },
      "outputs": [],
      "source": [
        "from pyspark.sql import SparkSession\n",
        "from pyspark.sql.functions import col, expr, mean, corr, avg as F"
      ]
    },
    {
      "cell_type": "code",
      "execution_count": 31,
      "metadata": {
        "id": "jR-5vFIXnaLB"
      },
      "outputs": [],
      "source": [
        "spark= SparkSession.builder.appName(\"Notas\").getOrCreate()"
      ]
    },
    {
      "cell_type": "code",
      "execution_count": 32,
      "metadata": {
        "colab": {
          "base_uri": "https://localhost:8080/",
          "height": 222
        },
        "id": "oVfNFXKPnc74",
        "outputId": "5b3d79f5-7430-4ec5-83cb-f22df1140e9d"
      },
      "outputs": [
        {
          "data": {
            "text/html": [
              "\n",
              "            <div>\n",
              "                <p><b>SparkSession - in-memory</b></p>\n",
              "                \n",
              "        <div>\n",
              "            <p><b>SparkContext</b></p>\n",
              "\n",
              "            <p><a href=\"http://d2791519562b:4040\">Spark UI</a></p>\n",
              "\n",
              "            <dl>\n",
              "              <dt>Version</dt>\n",
              "                <dd><code>v3.5.3</code></dd>\n",
              "              <dt>Master</dt>\n",
              "                <dd><code>local[*]</code></dd>\n",
              "              <dt>AppName</dt>\n",
              "                <dd><code>Notas</code></dd>\n",
              "            </dl>\n",
              "        </div>\n",
              "        \n",
              "            </div>\n",
              "        "
            ],
            "text/plain": [
              "<pyspark.sql.session.SparkSession at 0x786e9cb33310>"
            ]
          },
          "execution_count": 32,
          "metadata": {},
          "output_type": "execute_result"
        }
      ],
      "source": [
        "spark"
      ]
    },
    {
      "cell_type": "code",
      "execution_count": 33,
      "metadata": {
        "id": "RntmFEA6nuI5"
      },
      "outputs": [],
      "source": [
        "df= spark.read.csv(\"/data.csv\", header=True, sep=\";\", inferSchema=True)"
      ]
    },
    {
      "cell_type": "code",
      "execution_count": 34,
      "metadata": {
        "colab": {
          "base_uri": "https://localhost:8080/"
        },
        "id": "EmqqUOCKoqfi",
        "outputId": "85d3e86b-9e34-4fdc-e800-b0ae0a4a2568"
      },
      "outputs": [
        {
          "name": "stdout",
          "output_type": "stream",
          "text": [
            "+-----------+-----+-----+-----+\n",
            "|Estudiantes|NOTA1|NOTA2|NOTA3|\n",
            "+-----------+-----+-----+-----+\n",
            "|       Juan|   17|   12|   13|\n",
            "|    Patrick|   13|   15|   13|\n",
            "|       Luis|   10|   18|   20|\n",
            "|    Lorenzo|    9|   18|   14|\n",
            "|    Martina|    8|   16|   20|\n",
            "|   Cristina|   19|   13|   13|\n",
            "|      Maggy|   15|   14|   12|\n",
            "|      Elena|   16|   13|   13|\n",
            "|      Clara|   12|   10|   18|\n",
            "|   Estefany|   11|   10|   19|\n",
            "+-----------+-----+-----+-----+\n",
            "\n"
          ]
        }
      ],
      "source": [
        "df.show()"
      ]
    },
    {
      "cell_type": "code",
      "execution_count": 89,
      "metadata": {
        "colab": {
          "base_uri": "https://localhost:8080/"
        },
        "id": "vC8l0qUfvjMh",
        "outputId": "d18de917-ec5f-4155-dabe-6b3cc162892a"
      },
      "outputs": [
        {
          "name": "stdout",
          "output_type": "stream",
          "text": [
            "+-------------------+\n",
            "|        Correlacion|\n",
            "+-------------------+\n",
            "|-0.4535622736654446|\n",
            "+-------------------+\n",
            "\n"
          ]
        }
      ],
      "source": [
        "\n",
        "columns_var = [\"NOTA1\", \"NOTA2\",\"NOTA3\"]\n",
        "\n",
        "correlacion=df.select(corr(\"NOTA1\",\"NOTA2\").alias(\"Correlacion\")).show()"
      ]
    }
  ],
  "metadata": {
    "colab": {
      "provenance": []
    },
    "kernelspec": {
      "display_name": "Python 3",
      "name": "python3"
    },
    "language_info": {
      "name": "python"
    }
  },
  "nbformat": 4,
  "nbformat_minor": 0
}
